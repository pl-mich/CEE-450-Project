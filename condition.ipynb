{
 "cells": [
  {
   "cell_type": "markdown",
   "id": "a88e7cfb",
   "metadata": {},
   "source": [
    "# Investigating Impact of *Road Condition* on Probability and Odds of Roundabout vs. Intersection Crash"
   ]
  },
  {
   "cell_type": "code",
   "execution_count": 18,
   "id": "4ff55d2f",
   "metadata": {
    "pycharm": {
     "name": "#%%\n"
    }
   },
   "outputs": [
    {
     "name": "stdout",
     "output_type": "stream",
     "text": [
      "Requirement already satisfied: numpy in d:\\conda\\lib\\site-packages (1.20.3)\n",
      "Requirement already satisfied: matplotlib in d:\\conda\\lib\\site-packages (3.4.3)\n",
      "Requirement already satisfied: scipy in d:\\conda\\lib\\site-packages (1.7.1)\n",
      "Requirement already satisfied: pandas in d:\\conda\\lib\\site-packages (1.3.4)\n",
      "Requirement already satisfied: seaborn in d:\\conda\\lib\\site-packages (0.11.2)\n",
      "Requirement already satisfied: pingouin in d:\\conda\\lib\\site-packages (0.5.1)\n",
      "Requirement already satisfied: kiwisolver>=1.0.1 in d:\\conda\\lib\\site-packages (from matplotlib) (1.3.1)\n"
     ]
    },
    {
     "name": "stderr",
     "output_type": "stream",
     "text": [
      "WARNING: You are using pip version 22.0.2; however, version 22.0.4 is available.\n",
      "You should consider upgrading via the 'D:\\conda\\python.exe -m pip install --upgrade pip' command.\n"
     ]
    },
    {
     "name": "stdout",
     "output_type": "stream",
     "text": [
      "Requirement already satisfied: python-dateutil>=2.7 in d:\\conda\\lib\\site-packages (from matplotlib) (2.8.2)\n",
      "Requirement already satisfied: pyparsing>=2.2.1 in d:\\conda\\lib\\site-packages (from matplotlib) (3.0.4)\n",
      "Requirement already satisfied: pillow>=6.2.0 in d:\\conda\\lib\\site-packages (from matplotlib) (8.4.0)\n",
      "Requirement already satisfied: cycler>=0.10 in d:\\conda\\lib\\site-packages (from matplotlib) (0.10.0)\n",
      "Requirement already satisfied: pytz>=2017.3 in d:\\conda\\lib\\site-packages (from pandas) (2021.3)\n",
      "Requirement already satisfied: statsmodels>=0.13 in d:\\conda\\lib\\site-packages (from pingouin) (0.13.2)\n",
      "Requirement already satisfied: pandas-flavor>=0.2.0 in d:\\conda\\lib\\site-packages (from pingouin) (0.3.0)\n",
      "Requirement already satisfied: scikit-learn in d:\\conda\\lib\\site-packages (from pingouin) (0.24.2)\n",
      "Requirement already satisfied: tabulate in d:\\conda\\lib\\site-packages (from pingouin) (0.8.9)\n",
      "Requirement already satisfied: outdated in d:\\conda\\lib\\site-packages (from pingouin) (0.2.1)\n",
      "Requirement already satisfied: six in d:\\conda\\lib\\site-packages (from cycler>=0.10->matplotlib) (1.16.0)\n",
      "Requirement already satisfied: xarray in d:\\conda\\lib\\site-packages (from pandas-flavor>=0.2.0->pingouin) (2022.3.0)\n",
      "Requirement already satisfied: lazy-loader==0.1rc2 in d:\\conda\\lib\\site-packages (from pandas-flavor>=0.2.0->pingouin) (0.1rc2)\n",
      "Requirement already satisfied: patsy>=0.5.2 in d:\\conda\\lib\\site-packages (from statsmodels>=0.13->pingouin) (0.5.2)\n",
      "Requirement already satisfied: packaging>=21.3 in d:\\conda\\lib\\site-packages (from statsmodels>=0.13->pingouin) (21.3)\n",
      "Requirement already satisfied: requests in d:\\conda\\lib\\site-packages (from outdated->pingouin) (2.26.0)\n",
      "Requirement already satisfied: littleutils in d:\\conda\\lib\\site-packages (from outdated->pingouin) (0.2.2)\n",
      "Requirement already satisfied: threadpoolctl>=2.0.0 in d:\\conda\\lib\\site-packages (from scikit-learn->pingouin) (2.2.0)\n",
      "Requirement already satisfied: joblib>=0.11 in d:\\conda\\lib\\site-packages (from scikit-learn->pingouin) (1.1.0)\n",
      "Requirement already satisfied: idna<4,>=2.5 in d:\\conda\\lib\\site-packages (from requests->outdated->pingouin) (3.2)\n",
      "Requirement already satisfied: urllib3<1.27,>=1.21.1 in d:\\conda\\lib\\site-packages (from requests->outdated->pingouin) (1.26.7)\n",
      "Requirement already satisfied: charset-normalizer~=2.0.0 in d:\\conda\\lib\\site-packages (from requests->outdated->pingouin) (2.0.4)\n",
      "Requirement already satisfied: certifi>=2017.4.17 in d:\\conda\\lib\\site-packages (from requests->outdated->pingouin) (2021.10.8)\n"
     ]
    }
   ],
   "source": [
    "# install dependencies\n",
    "!pip install numpy matplotlib scipy pandas seaborn pingouin"
   ]
  },
  {
   "cell_type": "code",
   "execution_count": 1,
   "id": "c3adc9d9-9992-4e3d-8c04-fc227dcd3dd8",
   "metadata": {},
   "outputs": [],
   "source": [
    "# import directives\n",
    "import numpy as np\n",
    "import pandas as pd\n",
    "import seaborn as sns\n",
    "from matplotlib import pyplot as plt\n",
    "from scipy.stats import ttest_rel\n",
    "import pingouin as pt"
   ]
  },
  {
   "cell_type": "code",
   "execution_count": 2,
   "id": "a13b7cb8-cbae-4e40-9620-c3ecea087479",
   "metadata": {},
   "outputs": [],
   "source": [
    "# Preprocessing -- should be general-purpose\n",
    "# load data\n",
    "intersection = pd.read_csv(\"condition_intersection.csv\").replace(',','', regex=True).fillna(0)\n",
    "roundabout = pd.read_csv(\"condition_roundabout.csv\").replace(',','', regex=True).fillna(0)\n",
    "\n",
    "# Parse crash year and date\n",
    "month_map = {\n",
    "    \"January\": \"1\",\n",
    "    \"February\": \"2\",\n",
    "    \"March\": \"3\",\n",
    "    \"April\": \"4\",\n",
    "    \"May\": \"5\",\n",
    "    \"June\": \"6\",\n",
    "    \"July\": \"7\",\n",
    "    \"August\": \"8\",\n",
    "    \"September\": \"9\",\n",
    "    \"October\": \"10\",\n",
    "    \"November\": \"11\",\n",
    "    \"December\": \"12\"\n",
    "}\n",
    "intersection['Crash Month'] = intersection['Crash Month'].map(month_map)\n",
    "intersection['Crash Date'] = pd.to_datetime(intersection['Crash Year'] + \"/\" + intersection['Crash Month'] + \"/01\")\n",
    "intersection.drop(['Crash Year', 'Crash Month'], axis=1, inplace=True)\n",
    "roundabout['Crash Month'] = roundabout['Crash Month'].map(month_map)\n",
    "roundabout['Crash Date'] = pd.to_datetime(roundabout['Crash Year'] + \"/\" + roundabout['Crash Month'] + \"/01\")\n",
    "roundabout.drop(['Crash Year', 'Crash Month'], axis=1, inplace=True)"
   ]
  },
  {
   "cell_type": "code",
   "execution_count": 4,
   "id": "42c9b5d1",
   "metadata": {
    "pycharm": {
     "name": "#%%\n"
    }
   },
   "outputs": [],
   "source": [
    "# Drop unnecessary columns\n",
    "intersection = intersection.filter(['Crash Date', 'Snow', 'Total'])\n",
    "roundabout = roundabout.filter(['Crash Date', 'Snow', 'Total'])\n",
    "\n",
    "# Type conversion\n",
    "intersection['Snow'] = intersection['Snow'].astype(float)\n",
    "intersection['Total'] = intersection['Total'].astype(float)\n",
    "roundabout['Snow'] = roundabout['Snow'].astype(float)\n",
    "roundabout['Total'] = roundabout['Total'].astype(float)"
   ]
  },
  {
   "cell_type": "code",
   "execution_count": 5,
   "id": "6bfc3805",
   "metadata": {
    "pycharm": {
     "name": "#%%\n"
    }
   },
   "outputs": [],
   "source": [
    "intersection['Intersection %'] = intersection['Snow'] / intersection['Total']\n",
    "roundabout['Roundabout %'] = roundabout['Snow'] / roundabout['Total']\n",
    "\n",
    "intersection.drop(['Snow', 'Total'], axis=1, inplace=True)\n",
    "roundabout.drop(['Snow', 'Total'], axis=1, inplace=True)"
   ]
  },
  {
   "cell_type": "code",
   "execution_count": 6,
   "id": "985128f4",
   "metadata": {
    "pycharm": {
     "name": "#%%\n"
    }
   },
   "outputs": [],
   "source": [
    "# Aggregate data\n",
    "aggregate = pd.merge(intersection, roundabout, on=['Crash Date'])\n",
    "\n",
    "# save aggregated values for later and remove them from table\n",
    "avg = aggregate.iloc[len(aggregate) - 1].to_dict()"
   ]
  },
  {
   "cell_type": "code",
   "execution_count": 7,
   "id": "566434a2",
   "metadata": {
    "pycharm": {
     "name": "#%%\n"
    }
   },
   "outputs": [
    {
     "data": {
      "text/plain": "<Figure size 576x432 with 1 Axes>",
      "image/png": "[encoded data removed]"
     },
     "metadata": {
      "needs_background": "light"
     },
     "output_type": "display_data"
    }
   ],
   "source": [
    "# plot data\n",
    "aggregate.plot(x='Crash Date', kind='line', ylabel=\"% Crashes on Snow\", figsize=(8,6))\n",
    "plt.savefig('snow_plot.png')"
   ]
  },
  {
   "cell_type": "code",
   "execution_count": 8,
   "id": "8b6c7649",
   "metadata": {
    "pycharm": {
     "name": "#%%\n"
    }
   },
   "outputs": [
    {
     "data": {
      "text/plain": "               T  dof alternative     p-val        CI95%  cohen-d  BF10  \\\nT-test  2.167828   60   two-sided  0.034149  [0.0, 0.02]  0.10078  1.23   \n\n           power  \nT-test  0.121056  ",
      "text/html": "<div>\n<style scoped>\n    .dataframe tbody tr th:only-of-type {\n        vertical-align: middle;\n    }\n\n    .dataframe tbody tr th {\n        vertical-align: top;\n    }\n\n    .dataframe thead th {\n        text-align: right;\n    }\n</style>\n<table border=\"1\" class=\"dataframe\">\n  <thead>\n    <tr style=\"text-align: right;\">\n      <th></th>\n      <th>T</th>\n      <th>dof</th>\n      <th>alternative</th>\n      <th>p-val</th>\n      <th>CI95%</th>\n      <th>cohen-d</th>\n      <th>BF10</th>\n      <th>power</th>\n    </tr>\n  </thead>\n  <tbody>\n    <tr>\n      <th>T-test</th>\n      <td>2.167828</td>\n      <td>60</td>\n      <td>two-sided</td>\n      <td>0.034149</td>\n      <td>[0.0, 0.02]</td>\n      <td>0.10078</td>\n      <td>1.23</td>\n      <td>0.121056</td>\n    </tr>\n  </tbody>\n</table>\n</div>"
     },
     "execution_count": 8,
     "metadata": {},
     "output_type": "execute_result"
    }
   ],
   "source": [
    "# perform t-test on the conditional probability of the evidence's occurrence\n",
    "pt.ttest(aggregate['Intersection %'], aggregate['Roundabout %'], paired=True)"
   ]
  },
  {
   "cell_type": "code",
   "execution_count": 9,
   "id": "2bfd197c",
   "metadata": {
    "pycharm": {
     "name": "#%%\n"
    }
   },
   "outputs": [
    {
     "name": "stdout",
     "output_type": "stream",
     "text": [
      "0.761476225691251\n"
     ]
    }
   ],
   "source": [
    "# compute Bayes' factor for impact of evidence on roundabout crash vs intersection crash odds\n",
    "print(avg['Roundabout %'] / avg['Intersection %'])"
   ]
  },
  {
   "cell_type": "markdown",
   "id": "3ed3745d",
   "metadata": {
    "pycharm": {
     "name": "#%% md\n"
    }
   },
   "source": [
    "## Conclusion\n",
    "\n",
    "Given that the $t$-test yielded the $p$-value of $3.41 \\times 10^{-2} < 0.05$, we reject the null hypothesis, and come to the conclusion that\n",
    "**snowy roads** does constitute a statistically significant characteristic to the occurrence of traffic crashes in roundabouts.\n",
    "\n",
    "This difference can be quantified by the Bayes' factor of 0.761."
   ]
  }
 ],
 "metadata": {
  "kernelspec": {
   "display_name": "Python 3 (ipykernel)",
   "language": "python",
   "name": "python3"
  },
  "language_info": {
   "codemirror_mode": {
    "name": "ipython",
    "version": 3
   },
   "file_extension": ".py",
   "mimetype": "text/x-python",
   "name": "python",
   "nbconvert_exporter": "python",
   "pygments_lexer": "ipython3",
   "version": "3.9.7"
  }
 },
 "nbformat": 4,
 "nbformat_minor": 5
}